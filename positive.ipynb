{
 "cells": [
  {
   "cell_type": "markdown",
   "metadata": {},
   "source": [
    "Positive learning"
   ]
  },
  {
   "cell_type": "code",
   "execution_count": 1,
   "metadata": {},
   "outputs": [
    {
     "data": {
      "text/html": [
       "<div>\n",
       "<style scoped>\n",
       "    .dataframe tbody tr th:only-of-type {\n",
       "        vertical-align: middle;\n",
       "    }\n",
       "\n",
       "    .dataframe tbody tr th {\n",
       "        vertical-align: top;\n",
       "    }\n",
       "\n",
       "    .dataframe thead th {\n",
       "        text-align: right;\n",
       "    }\n",
       "</style>\n",
       "<table border=\"1\" class=\"dataframe\">\n",
       "  <thead>\n",
       "    <tr style=\"text-align: right;\">\n",
       "      <th></th>\n",
       "      <th>target</th>\n",
       "      <th>id.orig_h_1</th>\n",
       "      <th>id.orig_h_2</th>\n",
       "      <th>id.orig_h_3</th>\n",
       "      <th>id.orig_h_4</th>\n",
       "      <th>id.resp_h_1</th>\n",
       "      <th>id.resp_h_2</th>\n",
       "      <th>id.resp_h_3</th>\n",
       "      <th>id.resp_h_4</th>\n",
       "      <th>missed_bytes</th>\n",
       "      <th>...</th>\n",
       "      <th>history_B</th>\n",
       "      <th>history_S</th>\n",
       "      <th>history_d</th>\n",
       "      <th>history_r</th>\n",
       "      <th>id.orig_p_dyn</th>\n",
       "      <th>id.orig_p_reg</th>\n",
       "      <th>id.orig_p_wk</th>\n",
       "      <th>id.resp_p_dyn</th>\n",
       "      <th>id.resp_p_reg</th>\n",
       "      <th>id.resp_p_wk</th>\n",
       "    </tr>\n",
       "  </thead>\n",
       "  <tbody>\n",
       "    <tr>\n",
       "      <th>0</th>\n",
       "      <td>0</td>\n",
       "      <td>154</td>\n",
       "      <td>197</td>\n",
       "      <td>41</td>\n",
       "      <td>78</td>\n",
       "      <td>192</td>\n",
       "      <td>168</td>\n",
       "      <td>1</td>\n",
       "      <td>198</td>\n",
       "      <td>0.0</td>\n",
       "      <td>...</td>\n",
       "      <td>0.0</td>\n",
       "      <td>0.0</td>\n",
       "      <td>0.0</td>\n",
       "      <td>0.0</td>\n",
       "      <td>0.0</td>\n",
       "      <td>0.0</td>\n",
       "      <td>1.0</td>\n",
       "      <td>0.0</td>\n",
       "      <td>0.0</td>\n",
       "      <td>1.0</td>\n",
       "    </tr>\n",
       "    <tr>\n",
       "      <th>1</th>\n",
       "      <td>0</td>\n",
       "      <td>192</td>\n",
       "      <td>168</td>\n",
       "      <td>1</td>\n",
       "      <td>198</td>\n",
       "      <td>147</td>\n",
       "      <td>231</td>\n",
       "      <td>100</td>\n",
       "      <td>5</td>\n",
       "      <td>0.0</td>\n",
       "      <td>...</td>\n",
       "      <td>0.0</td>\n",
       "      <td>0.0</td>\n",
       "      <td>1.0</td>\n",
       "      <td>0.0</td>\n",
       "      <td>0.0</td>\n",
       "      <td>0.0</td>\n",
       "      <td>1.0</td>\n",
       "      <td>0.0</td>\n",
       "      <td>0.0</td>\n",
       "      <td>1.0</td>\n",
       "    </tr>\n",
       "    <tr>\n",
       "      <th>2</th>\n",
       "      <td>0</td>\n",
       "      <td>192</td>\n",
       "      <td>168</td>\n",
       "      <td>1</td>\n",
       "      <td>198</td>\n",
       "      <td>147</td>\n",
       "      <td>231</td>\n",
       "      <td>100</td>\n",
       "      <td>5</td>\n",
       "      <td>0.0</td>\n",
       "      <td>...</td>\n",
       "      <td>0.0</td>\n",
       "      <td>0.0</td>\n",
       "      <td>1.0</td>\n",
       "      <td>0.0</td>\n",
       "      <td>0.0</td>\n",
       "      <td>0.0</td>\n",
       "      <td>1.0</td>\n",
       "      <td>0.0</td>\n",
       "      <td>0.0</td>\n",
       "      <td>1.0</td>\n",
       "    </tr>\n",
       "    <tr>\n",
       "      <th>3</th>\n",
       "      <td>0</td>\n",
       "      <td>192</td>\n",
       "      <td>168</td>\n",
       "      <td>1</td>\n",
       "      <td>198</td>\n",
       "      <td>147</td>\n",
       "      <td>231</td>\n",
       "      <td>100</td>\n",
       "      <td>5</td>\n",
       "      <td>0.0</td>\n",
       "      <td>...</td>\n",
       "      <td>0.0</td>\n",
       "      <td>0.0</td>\n",
       "      <td>1.0</td>\n",
       "      <td>0.0</td>\n",
       "      <td>0.0</td>\n",
       "      <td>0.0</td>\n",
       "      <td>1.0</td>\n",
       "      <td>0.0</td>\n",
       "      <td>0.0</td>\n",
       "      <td>1.0</td>\n",
       "    </tr>\n",
       "    <tr>\n",
       "      <th>4</th>\n",
       "      <td>0</td>\n",
       "      <td>84</td>\n",
       "      <td>244</td>\n",
       "      <td>188</td>\n",
       "      <td>242</td>\n",
       "      <td>192</td>\n",
       "      <td>168</td>\n",
       "      <td>1</td>\n",
       "      <td>198</td>\n",
       "      <td>0.0</td>\n",
       "      <td>...</td>\n",
       "      <td>0.0</td>\n",
       "      <td>0.0</td>\n",
       "      <td>0.0</td>\n",
       "      <td>0.0</td>\n",
       "      <td>0.0</td>\n",
       "      <td>0.0</td>\n",
       "      <td>1.0</td>\n",
       "      <td>0.0</td>\n",
       "      <td>0.0</td>\n",
       "      <td>1.0</td>\n",
       "    </tr>\n",
       "  </tbody>\n",
       "</table>\n",
       "<p>5 rows × 33 columns</p>\n",
       "</div>"
      ],
      "text/plain": [
       "   target  id.orig_h_1  id.orig_h_2  id.orig_h_3  id.orig_h_4  id.resp_h_1  \\\n",
       "0       0          154          197           41           78          192   \n",
       "1       0          192          168            1          198          147   \n",
       "2       0          192          168            1          198          147   \n",
       "3       0          192          168            1          198          147   \n",
       "4       0           84          244          188          242          192   \n",
       "\n",
       "   id.resp_h_2  id.resp_h_3  id.resp_h_4  missed_bytes  ...  history_B  \\\n",
       "0          168            1          198           0.0  ...        0.0   \n",
       "1          231          100            5           0.0  ...        0.0   \n",
       "2          231          100            5           0.0  ...        0.0   \n",
       "3          231          100            5           0.0  ...        0.0   \n",
       "4          168            1          198           0.0  ...        0.0   \n",
       "\n",
       "   history_S  history_d  history_r  id.orig_p_dyn  id.orig_p_reg  \\\n",
       "0        0.0        0.0        0.0            0.0            0.0   \n",
       "1        0.0        1.0        0.0            0.0            0.0   \n",
       "2        0.0        1.0        0.0            0.0            0.0   \n",
       "3        0.0        1.0        0.0            0.0            0.0   \n",
       "4        0.0        0.0        0.0            0.0            0.0   \n",
       "\n",
       "   id.orig_p_wk  id.resp_p_dyn  id.resp_p_reg  id.resp_p_wk  \n",
       "0           1.0            0.0            0.0           1.0  \n",
       "1           1.0            0.0            0.0           1.0  \n",
       "2           1.0            0.0            0.0           1.0  \n",
       "3           1.0            0.0            0.0           1.0  \n",
       "4           1.0            0.0            0.0           1.0  \n",
       "\n",
       "[5 rows x 33 columns]"
      ]
     },
     "execution_count": 1,
     "metadata": {},
     "output_type": "execute_result"
    }
   ],
   "source": [
    "import pandas as pd\n",
    "\n",
    "dir = 'out/'\n",
    "# read the data\n",
    "\n",
    "benign = pd.read_csv(dir + 'benign.csv')\n",
    "mirai = pd.read_csv(dir + 'mirai.csv')\n",
    "okiru = pd.read_csv(dir + 'okiru.csv')\n",
    "\n",
    "benign.head()"
   ]
  },
  {
   "cell_type": "markdown",
   "metadata": {},
   "source": [
    "Train test split"
   ]
  },
  {
   "cell_type": "code",
   "execution_count": 2,
   "metadata": {},
   "outputs": [],
   "source": [
    "# select the first 80% of benign as X_train\n",
    "X_train = benign[:int(len(benign)*0.8)]\n",
    "\n",
    "# select the last 20% of benign as benign_test\n",
    "benign_test = benign[int(len(benign)*0.8):]"
   ]
  },
  {
   "cell_type": "code",
   "execution_count": 4,
   "metadata": {},
   "outputs": [],
   "source": [
    "y_train = X_train['target']\n",
    "X_train = X_train.drop(['target'], axis=1)"
   ]
  },
  {
   "cell_type": "code",
   "execution_count": 3,
   "metadata": {},
   "outputs": [],
   "source": [
    "# select len(benign_test) rows from mirai as mirai_test and okiru_test\n",
    "mirai_test = mirai.sample(n=len(benign_test))\n",
    "okiru_test = okiru.sample(n=len(benign_test))\n",
    "\n",
    "# combine benign_test and mirai_test as X_test_mirai\n",
    "X_test_mirai = pd.concat([benign_test, mirai_test])\n",
    "\n",
    "# combine benign_test and okiru_test as X_test_okiru\n",
    "X_test_okiru = pd.concat([benign_test, okiru_test])"
   ]
  },
  {
   "cell_type": "code",
   "execution_count": 5,
   "metadata": {},
   "outputs": [
    {
     "name": "stdout",
     "output_type": "stream",
     "text": [
      "0    15724\n",
      "1    15724\n",
      "Name: target, dtype: int64\n",
      "0    15724\n",
      "2    15724\n",
      "Name: target, dtype: int64\n"
     ]
    }
   ],
   "source": [
    "y_test_mirai = X_test_mirai['target']\n",
    "X_test_mirai = X_test_mirai.drop(['target'], axis=1)\n",
    "\n",
    "y_test_okiru = X_test_okiru['target']\n",
    "X_test_okiru = X_test_okiru.drop(['target'], axis=1)\n",
    "\n",
    "# print value counts of y_test_mirai and y_test_okiru\n",
    "print(y_test_mirai.value_counts())\n",
    "print(y_test_okiru.value_counts())"
   ]
  },
  {
   "cell_type": "code",
   "execution_count": 6,
   "metadata": {},
   "outputs": [],
   "source": [
    "# change 1 to -1 and 0 to 1 in y_test_mirai\n",
    "y_test_mirai = y_test_mirai.replace(1, -1)\n",
    "y_test_mirai = y_test_mirai.replace(0, 1)\n",
    "\n",
    "# change 2 to -1 and 0 to 1 in y_test_okiru\n",
    "y_test_okiru = y_test_okiru.replace(2, -1)\n",
    "y_test_okiru = y_test_okiru.replace(0, 1)"
   ]
  },
  {
   "cell_type": "markdown",
   "metadata": {},
   "source": [
    "Positive training"
   ]
  },
  {
   "cell_type": "code",
   "execution_count": 7,
   "metadata": {},
   "outputs": [
    {
     "name": "stderr",
     "output_type": "stream",
     "text": [
      "C:\\Users\\Stone\\AppData\\Roaming\\Python\\Python311\\site-packages\\sklearn\\base.py:450: UserWarning: X does not have valid feature names, but IsolationForest was fitted with feature names\n",
      "  warnings.warn(\n"
     ]
    }
   ],
   "source": [
    "from sklearn.ensemble import IsolationForest\n",
    "\n",
    "# create an IsolationForest model\n",
    "iso = IsolationForest(n_estimators=100, contamination=0.01)\n",
    "\n",
    "# fit the model with X_train\n",
    "iso.fit(X_train)\n",
    "\n",
    "# predict the target of X_test_mirai\n",
    "y_pred_mirai = iso.predict(X_test_mirai)\n",
    "\n",
    "# predict the target of X_test_okiru\n",
    "y_pred_okiru = iso.predict(X_test_okiru)"
   ]
  },
  {
   "cell_type": "code",
   "execution_count": 9,
   "metadata": {},
   "outputs": [
    {
     "data": {
      "image/png": "[encoded data removed]",
      "text/plain": [
       "<Figure size 640x480 with 2 Axes>"
      ]
     },
     "metadata": {},
     "output_type": "display_data"
    }
   ],
   "source": [
    "from sklearn.metrics import confusion_matrix\n",
    "import matplotlib.pyplot as plt\n",
    "import seaborn as sns\n",
    "\n",
    "# create confusion matrix for y_test_mirai and y_pred_mirai\n",
    "cm = confusion_matrix(y_test_mirai, y_pred_mirai)\n",
    "\n",
    "# create heatmap for cm\n",
    "sns.heatmap(cm, annot=True, fmt='d')\n",
    "plt.show()"
   ]
  },
  {
   "cell_type": "code",
   "execution_count": 10,
   "metadata": {},
   "outputs": [
    {
     "data": {
      "image/png": "[encoded data removed]",
      "text/plain": [
       "<Figure size 640x480 with 2 Axes>"
      ]
     },
     "metadata": {},
     "output_type": "display_data"
    }
   ],
   "source": [
    "# create confusion matrix for y_test_okiru and y_pred_okiru\n",
    "cm = confusion_matrix(y_test_okiru, y_pred_okiru)\n",
    "\n",
    "# create heatmap for cm\n",
    "sns.heatmap(cm, annot=True, fmt='d')\n",
    "plt.show()"
   ]
  },
  {
   "cell_type": "code",
   "execution_count": 12,
   "metadata": {},
   "outputs": [
    {
     "name": "stderr",
     "output_type": "stream",
     "text": [
      "C:\\Users\\Stone\\AppData\\Roaming\\Python\\Python311\\site-packages\\sklearn\\base.py:450: UserWarning: X does not have valid feature names, but IsolationForest was fitted with feature names\n",
      "  warnings.warn(\n"
     ]
    },
    {
     "name": "stdout",
     "output_type": "stream",
     "text": [
      "Contamination:  0.01\n",
      "              precision    recall  f1-score   support\n",
      "\n",
      "          -1       1.00      0.19      0.32     15724\n",
      "           1       0.55      1.00      0.71     15724\n",
      "\n",
      "    accuracy                           0.60     31448\n",
      "   macro avg       0.78      0.60      0.52     31448\n",
      "weighted avg       0.78      0.60      0.52     31448\n",
      "\n",
      "\n"
     ]
    },
    {
     "name": "stderr",
     "output_type": "stream",
     "text": [
      "C:\\Users\\Stone\\AppData\\Roaming\\Python\\Python311\\site-packages\\sklearn\\base.py:450: UserWarning: X does not have valid feature names, but IsolationForest was fitted with feature names\n",
      "  warnings.warn(\n"
     ]
    },
    {
     "name": "stdout",
     "output_type": "stream",
     "text": [
      "Contamination:  0.05\n",
      "              precision    recall  f1-score   support\n",
      "\n",
      "          -1       0.99      0.75      0.85     15724\n",
      "           1       0.80      0.99      0.88     15724\n",
      "\n",
      "    accuracy                           0.87     31448\n",
      "   macro avg       0.89      0.87      0.87     31448\n",
      "weighted avg       0.89      0.87      0.87     31448\n",
      "\n",
      "\n"
     ]
    },
    {
     "name": "stderr",
     "output_type": "stream",
     "text": [
      "C:\\Users\\Stone\\AppData\\Roaming\\Python\\Python311\\site-packages\\sklearn\\base.py:450: UserWarning: X does not have valid feature names, but IsolationForest was fitted with feature names\n",
      "  warnings.warn(\n"
     ]
    },
    {
     "name": "stdout",
     "output_type": "stream",
     "text": [
      "Contamination:  0.1\n",
      "              precision    recall  f1-score   support\n",
      "\n",
      "          -1       0.99      1.00      0.99     15724\n",
      "           1       1.00      0.99      0.99     15724\n",
      "\n",
      "    accuracy                           0.99     31448\n",
      "   macro avg       0.99      0.99      0.99     31448\n",
      "weighted avg       0.99      0.99      0.99     31448\n",
      "\n",
      "\n"
     ]
    }
   ],
   "source": [
    "from sklearn.metrics import classification_report\n",
    "\n",
    "# create a list of contamination values\n",
    "contamination_list = [0.01, 0.05, 0.1]\n",
    "\n",
    "# for each contamination value\n",
    "for contamination in contamination_list:\n",
    "    # create an IsolationForest model\n",
    "    iso = IsolationForest(n_estimators=100, contamination=contamination)\n",
    "    # fit the model with X_train\n",
    "    iso.fit(X_train)\n",
    "    # predict the target of X_test_mirai\n",
    "    y_pred_mirai = iso.predict(X_test_mirai)\n",
    "    # print classification report for y_test_mirai and y_pred_mirai\n",
    "    print('Contamination: ', contamination)\n",
    "    print(classification_report(y_test_mirai, y_pred_mirai))\n",
    "    print()"
   ]
  },
  {
   "cell_type": "code",
   "execution_count": 15,
   "metadata": {},
   "outputs": [
    {
     "name": "stderr",
     "output_type": "stream",
     "text": [
      "C:\\Users\\Stone\\AppData\\Roaming\\Python\\Python311\\site-packages\\sklearn\\base.py:450: UserWarning: X does not have valid feature names, but IsolationForest was fitted with feature names\n",
      "  warnings.warn(\n"
     ]
    }
   ],
   "source": [
    "# create a model with contamination=0.1\n",
    "iso = IsolationForest(n_estimators=100, contamination=0.1)\n",
    "\n",
    "# fit the model with X_train\n",
    "iso.fit(X_train)\n",
    "\n",
    "# predict the target of X_test_mirai\n",
    "y_pred_mirai = iso.predict(X_test_mirai)\n",
    "\n",
    "# predict the target of X_test_okiru\n",
    "y_pred_okiru = iso.predict(X_test_okiru)"
   ]
  },
  {
   "cell_type": "code",
   "execution_count": 16,
   "metadata": {},
   "outputs": [
    {
     "data": {
      "image/png": "[encoded data removed]",
      "text/plain": [
       "<Figure size 640x480 with 2 Axes>"
      ]
     },
     "metadata": {},
     "output_type": "display_data"
    },
    {
     "data": {
      "image/png": "[encoded data removed]",
      "text/plain": [
       "<Figure size 640x480 with 2 Axes>"
      ]
     },
     "metadata": {},
     "output_type": "display_data"
    }
   ],
   "source": [
    "# plot confusion matrix for y_test_mirai and y_pred_mirai\n",
    "cm = confusion_matrix(y_test_mirai, y_pred_mirai)\n",
    "sns.heatmap(cm, annot=True, fmt='d')\n",
    "plt.show()\n",
    "\n",
    "# plot confusion matrix for y_test_okiru and y_pred_okiru\n",
    "cm = confusion_matrix(y_test_okiru, y_pred_okiru)\n",
    "sns.heatmap(cm, annot=True, fmt='d')\n",
    "plt.show()"
   ]
  },
  {
   "cell_type": "code",
   "execution_count": 17,
   "metadata": {},
   "outputs": [
    {
     "name": "stdout",
     "output_type": "stream",
     "text": [
      "              precision    recall  f1-score   support\n",
      "\n",
      "          -1       0.99      1.00      0.99     15724\n",
      "           1       1.00      0.99      0.99     15724\n",
      "\n",
      "    accuracy                           0.99     31448\n",
      "   macro avg       0.99      0.99      0.99     31448\n",
      "weighted avg       0.99      0.99      0.99     31448\n",
      "\n",
      "              precision    recall  f1-score   support\n",
      "\n",
      "          -1       0.99      0.99      0.99     15724\n",
      "           1       0.99      0.99      0.99     15724\n",
      "\n",
      "    accuracy                           0.99     31448\n",
      "   macro avg       0.99      0.99      0.99     31448\n",
      "weighted avg       0.99      0.99      0.99     31448\n",
      "\n"
     ]
    }
   ],
   "source": [
    "print(classification_report(y_test_mirai, y_pred_mirai))\n",
    "print(classification_report(y_test_okiru, y_pred_okiru))"
   ]
  },
  {
   "cell_type": "code",
   "execution_count": 18,
   "metadata": {},
   "outputs": [],
   "source": [
    "from sklearn.svm import OneClassSVM\n",
    "\n",
    "# create a OneClassSVM model\n",
    "svm = OneClassSVM()\n",
    "\n",
    "# fit the model with X_train\n",
    "svm.fit(X_train)\n",
    "\n",
    "# predict the target of X_test_mirai\n",
    "y_pred_mirai = svm.predict(X_test_mirai)\n",
    "\n",
    "# predict the target of X_test_okiru\n",
    "y_pred_okiru = svm.predict(X_test_okiru)"
   ]
  },
  {
   "cell_type": "code",
   "execution_count": 19,
   "metadata": {},
   "outputs": [
    {
     "data": {
      "image/png": "[encoded data removed]",
      "text/plain": [
       "<Figure size 640x480 with 2 Axes>"
      ]
     },
     "metadata": {},
     "output_type": "display_data"
    },
    {
     "data": {
      "image/png": "[encoded data removed]",
      "text/plain": [
       "<Figure size 640x480 with 2 Axes>"
      ]
     },
     "metadata": {},
     "output_type": "display_data"
    }
   ],
   "source": [
    "# plot confusion matrix for y_test_mirai and y_pred_mirai\n",
    "cm = confusion_matrix(y_test_mirai, y_pred_mirai)\n",
    "\n",
    "sns.heatmap(cm, annot=True, fmt='d')\n",
    "plt.show()\n",
    "\n",
    "# plot confusion matrix for y_test_okiru and y_pred_okiru\n",
    "cm = confusion_matrix(y_test_okiru, y_pred_okiru)\n",
    "\n",
    "sns.heatmap(cm, annot=True, fmt='d')\n",
    "plt.show()"
   ]
  },
  {
   "cell_type": "code",
   "execution_count": 20,
   "metadata": {},
   "outputs": [],
   "source": [
    "# create a list of kernel values\n",
    "kernel_list = ['linear', 'rbf']\n",
    "\n",
    "# create a list of gamma values\n",
    "gamma_list = [0.01, 0.1]\n",
    "\n",
    "# create a list of nu values\n",
    "nu_list = [0.01, 0.1]\n",
    "\n",
    "# create a list of conbatination of kernel, gamma, and nu\n",
    "params = [[kernel, gamma, nu] for kernel in kernel_list for gamma in gamma_list for nu in nu_list]\n",
    "\n",
    "# for each combination of kernel, gamma, and nu\n",
    "for kernel, gamma, nu in params:\n",
    "    # create a OneClassSVM model\n",
    "    svm = OneClassSVM(kernel=kernel, gamma=gamma, nu=nu)\n",
    "    # fit the model with X_train\n",
    "    svm.fit(X_train)\n",
    "    # predict the target of X_test_mirai\n",
    "    y_pred_mirai = svm.predict(X_test_mirai)\n",
    "    # print classification report for y_test_mirai and y_pred_mirai\n",
    "    print('Kernel: ', kernel, 'Gamma: ', gamma, 'Nu: ', nu)\n",
    "    print(classification_report(y_test_mirai, y_pred_mirai))\n",
    "    print()\n"
   ]
  }
 ],
 "metadata": {
  "kernelspec": {
   "display_name": "Python 3",
   "language": "python",
   "name": "python3"
  },
  "language_info": {
   "codemirror_mode": {
    "name": "ipython",
    "version": 3
   },
   "file_extension": ".py",
   "mimetype": "text/x-python",
   "name": "python",
   "nbconvert_exporter": "python",
   "pygments_lexer": "ipython3",
   "version": "3.11.4"
  }
 },
 "nbformat": 4,
 "nbformat_minor": 2
}
