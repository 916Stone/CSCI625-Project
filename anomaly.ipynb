{
 "cells": [
  {
   "cell_type": "code",
   "execution_count": 28,
   "metadata": {},
   "outputs": [
    {
     "data": {
      "text/html": [
       "<div>\n",
       "<style scoped>\n",
       "    .dataframe tbody tr th:only-of-type {\n",
       "        vertical-align: middle;\n",
       "    }\n",
       "\n",
       "    .dataframe tbody tr th {\n",
       "        vertical-align: top;\n",
       "    }\n",
       "\n",
       "    .dataframe thead th {\n",
       "        text-align: right;\n",
       "    }\n",
       "</style>\n",
       "<table border=\"1\" class=\"dataframe\">\n",
       "  <thead>\n",
       "    <tr style=\"text-align: right;\">\n",
       "      <th></th>\n",
       "      <th>target</th>\n",
       "      <th>id.orig_h_1</th>\n",
       "      <th>id.orig_h_2</th>\n",
       "      <th>id.orig_h_3</th>\n",
       "      <th>id.orig_h_4</th>\n",
       "      <th>id.resp_h_1</th>\n",
       "      <th>id.resp_h_2</th>\n",
       "      <th>id.resp_h_3</th>\n",
       "      <th>id.resp_h_4</th>\n",
       "      <th>missed_bytes</th>\n",
       "      <th>...</th>\n",
       "      <th>history_B</th>\n",
       "      <th>history_S</th>\n",
       "      <th>history_d</th>\n",
       "      <th>history_r</th>\n",
       "      <th>id.orig_p_dyn</th>\n",
       "      <th>id.orig_p_reg</th>\n",
       "      <th>id.orig_p_wk</th>\n",
       "      <th>id.resp_p_dyn</th>\n",
       "      <th>id.resp_p_reg</th>\n",
       "      <th>id.resp_p_wk</th>\n",
       "    </tr>\n",
       "  </thead>\n",
       "  <tbody>\n",
       "    <tr>\n",
       "      <th>0</th>\n",
       "      <td>0</td>\n",
       "      <td>154</td>\n",
       "      <td>197</td>\n",
       "      <td>41</td>\n",
       "      <td>78</td>\n",
       "      <td>192</td>\n",
       "      <td>168</td>\n",
       "      <td>1</td>\n",
       "      <td>198</td>\n",
       "      <td>0.0</td>\n",
       "      <td>...</td>\n",
       "      <td>0.0</td>\n",
       "      <td>0.0</td>\n",
       "      <td>0.0</td>\n",
       "      <td>0.0</td>\n",
       "      <td>0.0</td>\n",
       "      <td>0.0</td>\n",
       "      <td>1.0</td>\n",
       "      <td>0.0</td>\n",
       "      <td>0.0</td>\n",
       "      <td>1.0</td>\n",
       "    </tr>\n",
       "    <tr>\n",
       "      <th>1</th>\n",
       "      <td>0</td>\n",
       "      <td>192</td>\n",
       "      <td>168</td>\n",
       "      <td>1</td>\n",
       "      <td>198</td>\n",
       "      <td>147</td>\n",
       "      <td>231</td>\n",
       "      <td>100</td>\n",
       "      <td>5</td>\n",
       "      <td>0.0</td>\n",
       "      <td>...</td>\n",
       "      <td>0.0</td>\n",
       "      <td>0.0</td>\n",
       "      <td>1.0</td>\n",
       "      <td>0.0</td>\n",
       "      <td>0.0</td>\n",
       "      <td>0.0</td>\n",
       "      <td>1.0</td>\n",
       "      <td>0.0</td>\n",
       "      <td>0.0</td>\n",
       "      <td>1.0</td>\n",
       "    </tr>\n",
       "    <tr>\n",
       "      <th>2</th>\n",
       "      <td>0</td>\n",
       "      <td>192</td>\n",
       "      <td>168</td>\n",
       "      <td>1</td>\n",
       "      <td>198</td>\n",
       "      <td>147</td>\n",
       "      <td>231</td>\n",
       "      <td>100</td>\n",
       "      <td>5</td>\n",
       "      <td>0.0</td>\n",
       "      <td>...</td>\n",
       "      <td>0.0</td>\n",
       "      <td>0.0</td>\n",
       "      <td>1.0</td>\n",
       "      <td>0.0</td>\n",
       "      <td>0.0</td>\n",
       "      <td>0.0</td>\n",
       "      <td>1.0</td>\n",
       "      <td>0.0</td>\n",
       "      <td>0.0</td>\n",
       "      <td>1.0</td>\n",
       "    </tr>\n",
       "    <tr>\n",
       "      <th>3</th>\n",
       "      <td>0</td>\n",
       "      <td>192</td>\n",
       "      <td>168</td>\n",
       "      <td>1</td>\n",
       "      <td>198</td>\n",
       "      <td>147</td>\n",
       "      <td>231</td>\n",
       "      <td>100</td>\n",
       "      <td>5</td>\n",
       "      <td>0.0</td>\n",
       "      <td>...</td>\n",
       "      <td>0.0</td>\n",
       "      <td>0.0</td>\n",
       "      <td>1.0</td>\n",
       "      <td>0.0</td>\n",
       "      <td>0.0</td>\n",
       "      <td>0.0</td>\n",
       "      <td>1.0</td>\n",
       "      <td>0.0</td>\n",
       "      <td>0.0</td>\n",
       "      <td>1.0</td>\n",
       "    </tr>\n",
       "    <tr>\n",
       "      <th>4</th>\n",
       "      <td>0</td>\n",
       "      <td>84</td>\n",
       "      <td>244</td>\n",
       "      <td>188</td>\n",
       "      <td>242</td>\n",
       "      <td>192</td>\n",
       "      <td>168</td>\n",
       "      <td>1</td>\n",
       "      <td>198</td>\n",
       "      <td>0.0</td>\n",
       "      <td>...</td>\n",
       "      <td>0.0</td>\n",
       "      <td>0.0</td>\n",
       "      <td>0.0</td>\n",
       "      <td>0.0</td>\n",
       "      <td>0.0</td>\n",
       "      <td>0.0</td>\n",
       "      <td>1.0</td>\n",
       "      <td>0.0</td>\n",
       "      <td>0.0</td>\n",
       "      <td>1.0</td>\n",
       "    </tr>\n",
       "  </tbody>\n",
       "</table>\n",
       "<p>5 rows × 33 columns</p>\n",
       "</div>"
      ],
      "text/plain": [
       "   target  id.orig_h_1  id.orig_h_2  id.orig_h_3  id.orig_h_4  id.resp_h_1  \\\n",
       "0       0          154          197           41           78          192   \n",
       "1       0          192          168            1          198          147   \n",
       "2       0          192          168            1          198          147   \n",
       "3       0          192          168            1          198          147   \n",
       "4       0           84          244          188          242          192   \n",
       "\n",
       "   id.resp_h_2  id.resp_h_3  id.resp_h_4  missed_bytes  ...  history_B  \\\n",
       "0          168            1          198           0.0  ...        0.0   \n",
       "1          231          100            5           0.0  ...        0.0   \n",
       "2          231          100            5           0.0  ...        0.0   \n",
       "3          231          100            5           0.0  ...        0.0   \n",
       "4          168            1          198           0.0  ...        0.0   \n",
       "\n",
       "   history_S  history_d  history_r  id.orig_p_dyn  id.orig_p_reg  \\\n",
       "0        0.0        0.0        0.0            0.0            0.0   \n",
       "1        0.0        1.0        0.0            0.0            0.0   \n",
       "2        0.0        1.0        0.0            0.0            0.0   \n",
       "3        0.0        1.0        0.0            0.0            0.0   \n",
       "4        0.0        0.0        0.0            0.0            0.0   \n",
       "\n",
       "   id.orig_p_wk  id.resp_p_dyn  id.resp_p_reg  id.resp_p_wk  \n",
       "0           1.0            0.0            0.0           1.0  \n",
       "1           1.0            0.0            0.0           1.0  \n",
       "2           1.0            0.0            0.0           1.0  \n",
       "3           1.0            0.0            0.0           1.0  \n",
       "4           1.0            0.0            0.0           1.0  \n",
       "\n",
       "[5 rows x 33 columns]"
      ]
     },
     "execution_count": 28,
     "metadata": {},
     "output_type": "execute_result"
    }
   ],
   "source": [
    "import pandas as pd\n",
    "\n",
    "dir = 'out/'\n",
    "# read the data\n",
    "\n",
    "benign = pd.read_csv(dir + 'benign.csv')\n",
    "malicious = pd.read_csv(dir + 'mirai.csv')\n",
    "\n",
    "benign.head()"
   ]
  },
  {
   "cell_type": "markdown",
   "metadata": {},
   "source": [
    "Train test split"
   ]
  },
  {
   "cell_type": "code",
   "execution_count": 29,
   "metadata": {},
   "outputs": [
    {
     "name": "stdout",
     "output_type": "stream",
     "text": [
      "(78618, 33)\n",
      "(13642435, 33)\n"
     ]
    }
   ],
   "source": [
    "print(benign.shape)\n",
    "print(malicious.shape)"
   ]
  },
  {
   "cell_type": "code",
   "execution_count": 30,
   "metadata": {},
   "outputs": [
    {
     "name": "stdout",
     "output_type": "stream",
     "text": [
      "(62894, 33)\n",
      "(6289, 33)\n"
     ]
    }
   ],
   "source": [
    "# get the numbe of rows in benign and malicious\n",
    "n_rows_benign = benign.shape[0]\n",
    "n_rows_malicious = malicious.shape[0]\n",
    "\n",
    "# select the first 80% of benign as benign_train\n",
    "benign_train = benign.iloc[:int(n_rows_benign * 0.8), :]\n",
    "\n",
    "# select the 10% of n_rows_benign * 0.8 from malicious as malicious_train\n",
    "malicious_train = malicious.iloc[:int(n_rows_benign * 0.8 * 0.1), :]\n",
    "\n",
    "# print the shape of benign_train and malicious_train\n",
    "print(benign_train.shape)\n",
    "print(malicious_train.shape)"
   ]
  },
  {
   "cell_type": "code",
   "execution_count": 31,
   "metadata": {},
   "outputs": [],
   "source": [
    "# combine benign_train and malicious_train as X_train\n",
    "X_train = pd.concat([benign_train, malicious_train], axis=0)\n",
    "\n",
    "y_train = X_train['target']\n",
    "X_train = X_train.drop('target', axis=1)"
   ]
  },
  {
   "cell_type": "code",
   "execution_count": 32,
   "metadata": {},
   "outputs": [],
   "source": [
    "# select the last 20% of benign as benign_test\n",
    "benign_test = benign.iloc[int(n_rows_benign * 0.8):, :]\n",
    "\n",
    "# get the number of rows in benign_test\n",
    "n_rows_benign_test = benign_test.shape[0]\n",
    "\n",
    "# select the n_rows_benign_test from malicious as malicious_test\n",
    "malicious_test = malicious.iloc[:n_rows_benign_test, :]\n",
    "\n",
    "# combine benign_test and malicious_test as X_test\n",
    "X_test = pd.concat([benign_test, malicious_test], axis=0)"
   ]
  },
  {
   "cell_type": "code",
   "execution_count": 33,
   "metadata": {},
   "outputs": [
    {
     "name": "stdout",
     "output_type": "stream",
     "text": [
      " 1    15724\n",
      "-1    15724\n",
      "Name: target, dtype: int64\n",
      "\n",
      " 1    62894\n",
      "-1     6289\n",
      "Name: target, dtype: int64\n"
     ]
    }
   ],
   "source": [
    "y_test = X_test['target']\n",
    "X_test = X_test.drop('target', axis=1)\n",
    "\n",
    "# change 1 to -1 and 0 to 1 in y_test and y_train\n",
    "y_test = y_test.replace(1, -1)\n",
    "y_test = y_test.replace(0, 1)\n",
    "\n",
    "y_train = y_train.replace(1, -1)\n",
    "y_train = y_train.replace(0, 1)\n",
    "\n",
    "print(y_test.value_counts())\n",
    "print()\n",
    "print(y_train.value_counts())"
   ]
  },
  {
   "cell_type": "markdown",
   "metadata": {},
   "source": [
    "Isolation forest"
   ]
  },
  {
   "cell_type": "code",
   "execution_count": 34,
   "metadata": {},
   "outputs": [
    {
     "name": "stderr",
     "output_type": "stream",
     "text": [
      "C:\\Users\\Stone\\AppData\\Roaming\\Python\\Python311\\site-packages\\sklearn\\base.py:450: UserWarning: X does not have valid feature names, but IsolationForest was fitted with feature names\n",
      "  warnings.warn(\n"
     ]
    }
   ],
   "source": [
    "# improt isolation forest\n",
    "from sklearn.ensemble import IsolationForest\n",
    "\n",
    "# create an isolation forest model\n",
    "iso = IsolationForest(contamination=0.1)\n",
    "\n",
    "# fit the model\n",
    "iso.fit(X_train)\n",
    "\n",
    "# predict the target for X_test\n",
    "y_pred = iso.predict(X_test)"
   ]
  },
  {
   "cell_type": "code",
   "execution_count": 41,
   "metadata": {},
   "outputs": [
    {
     "data": {
      "image/png": "[encoded data removed]",
      "text/plain": [
       "<Figure size 640x480 with 2 Axes>"
      ]
     },
     "metadata": {},
     "output_type": "display_data"
    },
    {
     "name": "stdout",
     "output_type": "stream",
     "text": [
      "              precision    recall  f1-score   support\n",
      "\n",
      "          -1       0.97      0.35      0.51     15724\n",
      "           1       0.60      0.99      0.75     15724\n",
      "\n",
      "    accuracy                           0.67     31448\n",
      "   macro avg       0.78      0.67      0.63     31448\n",
      "weighted avg       0.78      0.67      0.63     31448\n",
      "\n"
     ]
    }
   ],
   "source": [
    "# import confusion matrix and classification report\n",
    "from sklearn.metrics import confusion_matrix, classification_report\n",
    "\n",
    "# print the confusion matrix\n",
    "cm = confusion_matrix(y_test, y_pred)\n",
    "\n",
    "import matplotlib.pyplot as plt\n",
    "import seaborn as sns\n",
    "\n",
    "class_labels = [0, 1] \n",
    "\n",
    "# heatmap\n",
    "sns.heatmap(cm, annot=True, fmt='g', cmap='Blues', xticklabels=class_labels, yticklabels=class_labels)\n",
    "\n",
    "# labels\n",
    "plt.xlabel('Predicted labels')\n",
    "plt.ylabel('True labels')\n",
    "plt.title('Confusion Matrix')\n",
    "plt.show()\n",
    "\n",
    "# print the classification report\n",
    "print(classification_report(y_test, y_pred))"
   ]
  },
  {
   "cell_type": "markdown",
   "metadata": {},
   "source": [
    "Try to improve recall regardless of precision"
   ]
  },
  {
   "cell_type": "code",
   "execution_count": 43,
   "metadata": {},
   "outputs": [
    {
     "name": "stdout",
     "output_type": "stream",
     "text": [
      "{'contamination': 0.15, 'n_estimators': 100}\n"
     ]
    }
   ],
   "source": [
    "import warnings\n",
    "\n",
    "# Ignore all UserWarnings\n",
    "warnings.filterwarnings(\"ignore\", category=UserWarning)\n",
    "\n",
    "\n",
    "# import grid search\n",
    "from sklearn.model_selection import GridSearchCV\n",
    "\n",
    "# create a dictionary of parameters\n",
    "params = {'contamination': [0.15, 0.2],\n",
    "            'n_estimators': [100, 200, 300]}\n",
    "\n",
    "grid = GridSearchCV(IsolationForest(), params, cv=5, scoring='recall')\n",
    "\n",
    "# fit the model\n",
    "grid.fit(X_train, y_train)\n",
    "\n",
    "# print the best parameters\n",
    "print(grid.best_params_)"
   ]
  },
  {
   "cell_type": "code",
   "execution_count": 44,
   "metadata": {},
   "outputs": [
    {
     "data": {
      "image/png": "[encoded data removed]",
      "text/plain": [
       "<Figure size 640x480 with 2 Axes>"
      ]
     },
     "metadata": {},
     "output_type": "display_data"
    },
    {
     "name": "stdout",
     "output_type": "stream",
     "text": [
      "              precision    recall  f1-score   support\n",
      "\n",
      "          -1       0.98      0.71      0.82     15724\n",
      "           1       0.77      0.99      0.87     15724\n",
      "\n",
      "    accuracy                           0.85     31448\n",
      "   macro avg       0.88      0.85      0.84     31448\n",
      "weighted avg       0.88      0.85      0.84     31448\n",
      "\n"
     ]
    }
   ],
   "source": [
    "# use the best parameters to create a model\n",
    "iso = IsolationForest(contamination=0.15, n_estimators=100)\n",
    "\n",
    "# fit the model\n",
    "iso.fit(X_train)\n",
    "\n",
    "# predict the target for X_test\n",
    "y_pred = iso.predict(X_test)\n",
    "\n",
    "# print the confusion matrix\n",
    "cm = confusion_matrix(y_test, y_pred)\n",
    "\n",
    "# heatmap\n",
    "sns.heatmap(cm, annot=True, fmt='g', cmap='Blues', xticklabels=class_labels, yticklabels=class_labels)\n",
    "\n",
    "# labels\n",
    "plt.xlabel('Predicted labels')\n",
    "plt.ylabel('True labels')\n",
    "plt.title('Confusion Matrix')\n",
    "plt.show()\n",
    "\n",
    "# print the classification report\n",
    "print(classification_report(y_test, y_pred))\n",
    "\n"
   ]
  },
  {
   "cell_type": "markdown",
   "metadata": {},
   "source": [
    "One Class SVM"
   ]
  },
  {
   "cell_type": "code",
   "execution_count": 45,
   "metadata": {},
   "outputs": [
    {
     "data": {
      "image/png": "[encoded data removed]",
      "text/plain": [
       "<Figure size 640x480 with 2 Axes>"
      ]
     },
     "metadata": {},
     "output_type": "display_data"
    },
    {
     "name": "stdout",
     "output_type": "stream",
     "text": [
      "              precision    recall  f1-score   support\n",
      "\n",
      "          -1       0.72      0.98      0.83     15724\n",
      "           1       0.97      0.63      0.76     15724\n",
      "\n",
      "    accuracy                           0.80     31448\n",
      "   macro avg       0.85      0.80      0.80     31448\n",
      "weighted avg       0.85      0.80      0.80     31448\n",
      "\n"
     ]
    }
   ],
   "source": [
    "# import one class svm\n",
    "from sklearn.svm import OneClassSVM\n",
    "\n",
    "# create a one class svm model\n",
    "svm = OneClassSVM()\n",
    "\n",
    "# fit the model\n",
    "svm.fit(X_train)\n",
    "\n",
    "# predict the target for X_test\n",
    "y_pred = svm.predict(X_test)\n",
    "\n",
    "# print the confusion matrix\n",
    "cm = confusion_matrix(y_test, y_pred)\n",
    "\n",
    "# heatmap\n",
    "sns.heatmap(cm, annot=True, fmt='g', cmap='Blues', xticklabels=class_labels, yticklabels=class_labels)\n",
    "\n",
    "# labels\n",
    "plt.xlabel('Predicted labels')\n",
    "plt.ylabel('True labels')\n",
    "plt.title('Confusion Matrix')\n",
    "plt.show()\n",
    "\n",
    "# print the classification report\n",
    "print(classification_report(y_test, y_pred))"
   ]
  },
  {
   "cell_type": "code",
   "execution_count": 47,
   "metadata": {},
   "outputs": [
    {
     "name": "stdout",
     "output_type": "stream",
     "text": [
      "{'gamma': 0.001, 'kernel': 'linear', 'nu': 0.1}\n"
     ]
    }
   ],
   "source": [
    "# create a dictionary of parameters\n",
    "params = {'nu': [0.1, 0.15, 0.2],\n",
    "          'gamma': [0.001, 0.01, 0.1],\n",
    "          'kernel': ['rbf', 'linear']}\n",
    "\n",
    "grid = GridSearchCV(OneClassSVM(), params, cv=5, scoring='recall')\n",
    "\n",
    "# fit the model\n",
    "grid.fit(X_train, y_train)\n",
    "\n",
    "# print the best parameters\n",
    "print(grid.best_params_)"
   ]
  },
  {
   "cell_type": "markdown",
   "metadata": {},
   "source": [
    "SVM took 361m40s to complete the grid search"
   ]
  },
  {
   "cell_type": "code",
   "execution_count": 48,
   "metadata": {},
   "outputs": [
    {
     "data": {
      "image/png": "[encoded data removed]",
      "text/plain": [
       "<Figure size 640x480 with 2 Axes>"
      ]
     },
     "metadata": {},
     "output_type": "display_data"
    },
    {
     "name": "stdout",
     "output_type": "stream",
     "text": [
      "              precision    recall  f1-score   support\n",
      "\n",
      "          -1       0.93      0.34      0.49     15724\n",
      "           1       0.60      0.98      0.74     15724\n",
      "\n",
      "    accuracy                           0.66     31448\n",
      "   macro avg       0.76      0.66      0.62     31448\n",
      "weighted avg       0.76      0.66      0.62     31448\n",
      "\n"
     ]
    }
   ],
   "source": [
    "# use the best parameters to create a model\n",
    "svm = OneClassSVM(gamma=0.001, kernel='linear', nu=0.1)\n",
    "\n",
    "# fit the model\n",
    "svm.fit(X_train)\n",
    "\n",
    "# predict the target for X_test\n",
    "y_pred = svm.predict(X_test)\n",
    "\n",
    "# print the confusion matrix\n",
    "cm = confusion_matrix(y_test, y_pred)\n",
    "\n",
    "# heatmap\n",
    "sns.heatmap(cm, annot=True, fmt='g', cmap='Blues', xticklabels=class_labels, yticklabels=class_labels)\n",
    "\n",
    "# labels\n",
    "plt.xlabel('Predicted labels')\n",
    "plt.ylabel('True labels')\n",
    "plt.title('Confusion Matrix')\n",
    "plt.show()\n",
    "\n",
    "# print the classification report\n",
    "print(classification_report(y_test, y_pred))"
   ]
  },
  {
   "cell_type": "markdown",
   "metadata": {},
   "source": [
    "Test another dataset"
   ]
  },
  {
   "cell_type": "code",
   "execution_count": 53,
   "metadata": {},
   "outputs": [
    {
     "name": "stdout",
     "output_type": "stream",
     "text": [
      "(11378759, 33)\n"
     ]
    }
   ],
   "source": [
    "# read okiru.csv\n",
    "okiru = pd.read_csv(dir + 'okiru.csv')\n",
    "\n",
    "# print the shape of okiru\n",
    "print(okiru.shape)"
   ]
  },
  {
   "cell_type": "code",
   "execution_count": 54,
   "metadata": {},
   "outputs": [],
   "source": [
    "# select the n_rows_benign_test from okiru as okiru_test\n",
    "okiru_test = okiru.iloc[:n_rows_benign_test, :]\n",
    "\n",
    "# combine benign_test and okiru_test as X_test_1\n",
    "X_test_1 = pd.concat([benign_test, okiru_test], axis=0)\n",
    "\n",
    "y_test_1 = X_test_1['target']\n",
    "X_test_1 = X_test_1.drop('target', axis=1)\n",
    "\n",
    "# change 2 to -1 and 0 to 1 in y_test_1\n",
    "y_test_1 = y_test_1.replace(2, -1)\n",
    "y_test_1 = y_test_1.replace(0, 1)"
   ]
  },
  {
   "cell_type": "code",
   "execution_count": 55,
   "metadata": {},
   "outputs": [
    {
     "name": "stdout",
     "output_type": "stream",
     "text": [
      " 1    15724\n",
      "-1    15724\n",
      "Name: target, dtype: int64\n"
     ]
    }
   ],
   "source": [
    "# print value counts of y_test_1\n",
    "print(y_test_1.value_counts())"
   ]
  },
  {
   "cell_type": "code",
   "execution_count": 56,
   "metadata": {},
   "outputs": [
    {
     "name": "stdout",
     "output_type": "stream",
     "text": [
      "              precision    recall  f1-score   support\n",
      "\n",
      "          -1       0.98      0.76      0.85     15724\n",
      "           1       0.80      0.99      0.88     15724\n",
      "\n",
      "    accuracy                           0.87     31448\n",
      "   macro avg       0.89      0.87      0.87     31448\n",
      "weighted avg       0.89      0.87      0.87     31448\n",
      "\n"
     ]
    }
   ],
   "source": [
    "# iso\n",
    "y_pred_1 = iso.predict(X_test_1)\n",
    "\n",
    "# print the classification report\n",
    "print(classification_report(y_test_1, y_pred_1))"
   ]
  },
  {
   "cell_type": "code",
   "execution_count": 57,
   "metadata": {},
   "outputs": [
    {
     "name": "stdout",
     "output_type": "stream",
     "text": [
      "              precision    recall  f1-score   support\n",
      "\n",
      "          -1       0.95      0.46      0.62     15724\n",
      "           1       0.64      0.98      0.78     15724\n",
      "\n",
      "    accuracy                           0.72     31448\n",
      "   macro avg       0.80      0.72      0.70     31448\n",
      "weighted avg       0.80      0.72      0.70     31448\n",
      "\n"
     ]
    }
   ],
   "source": [
    "# svm  \n",
    "y_pred_1 = svm.predict(X_test_1)\n",
    "\n",
    "# print the classification report\n",
    "print(classification_report(y_test_1, y_pred_1))"
   ]
  },
  {
   "cell_type": "code",
   "execution_count": 58,
   "metadata": {},
   "outputs": [
    {
     "name": "stdout",
     "output_type": "stream",
     "text": [
      "              precision    recall  f1-score   support\n",
      "\n",
      "          -1       0.72      0.94      0.81     15724\n",
      "           1       0.91      0.63      0.74     15724\n",
      "\n",
      "    accuracy                           0.78     31448\n",
      "   macro avg       0.82      0.78      0.78     31448\n",
      "weighted avg       0.82      0.78      0.78     31448\n",
      "\n"
     ]
    }
   ],
   "source": [
    "# rebuild the model with default svm\n",
    "svm = OneClassSVM()\n",
    "\n",
    "# fit the model\n",
    "svm.fit(X_train)\n",
    "\n",
    "# predict the target for X_test_1\n",
    "y_pred_1 = svm.predict(X_test_1)\n",
    "\n",
    "# print the classification report\n",
    "print(classification_report(y_test_1, y_pred_1))"
   ]
  }
 ],
 "metadata": {
  "kernelspec": {
   "display_name": "Python 3",
   "language": "python",
   "name": "python3"
  },
  "language_info": {
   "codemirror_mode": {
    "name": "ipython",
    "version": 3
   },
   "file_extension": ".py",
   "mimetype": "text/x-python",
   "name": "python",
   "nbconvert_exporter": "python",
   "pygments_lexer": "ipython3",
   "version": "3.11.4"
  }
 },
 "nbformat": 4,
 "nbformat_minor": 2
}
